{
 "cells": [
  {
   "cell_type": "code",
   "execution_count": 2,
   "metadata": {},
   "outputs": [],
   "source": [
    "import numpy as np\n",
    "import keras\n",
    "from keras.datasets import mnist\n",
    "from keras.models import Sequential\n",
    "from keras.layers import Dense, Dropout, Flatten\n",
    "from keras.layers import Conv2D, MaxPooling2D, AveragePooling2D"
   ]
  },
  {
   "cell_type": "code",
   "execution_count": 3,
   "metadata": {},
   "outputs": [],
   "source": [
    "batch_size = 128\n",
    "num_classes = 10\n",
    "epochs = 5\n",
    "\n",
    "img_rows, img_cols = 28, 28\n",
    "\n",
    "(x_train, y_train), (x_test, y_test) = mnist.load_data()\n",
    "\n",
    "x_train = x_train.reshape(60000, 28, 28, 1)\n",
    "x_test = x_test.reshape(10000, 28, 28, 1)\n",
    "\n",
    "y_train = keras.utils.to_categorical(y_train, num_classes)\n",
    "y_test = keras.utils.to_categorical(y_test, num_classes)"
   ]
  },
  {
   "cell_type": "code",
   "execution_count": 30,
   "metadata": {},
   "outputs": [],
   "source": [
    "model = Sequential()\n",
    "model.add(Conv2D(32, kernel_size=(3,3), activation = 'sigmoid', input_shape = (28,28,1)))\n",
    "model.add(AveragePooling2D(pool_size = (2,2)))\n",
    "model.add(Conv2D(64,(2,2),activation='relu', padding = 'same'))\n",
    "model.add(MaxPooling2D(pool_size = (2,2)))\n",
    "model.add(Dropout(0.2))\n",
    "model.add(Flatten())\n",
    "model.add(Dense(128, activation='relu'))\n",
    "model.add(Dense(128, activation='tanh'))\n",
    "model.add(Dropout(0.2))\n",
    "model.add(Dense(num_classes, activation='softmax'))"
   ]
  },
  {
   "cell_type": "code",
   "execution_count": 4,
   "metadata": {},
   "outputs": [],
   "source": [
    "model1 = Sequential()\n",
    "model1.add(Conv2D(64, kernel_size=(3,3), activation = 'relu', input_shape = (28,28,1)))\n",
    "model1.add(MaxPooling2D(pool_size = (2,2)))\n",
    "model1.add(Conv2D(128,(3,3),activation='relu'))\n",
    "model1.add(MaxPooling2D(pool_size = (2,2)))\n",
    "model1.add(Dropout(0.2))\n",
    "model1.add(Flatten())\n",
    "model1.add(Dense(256, activation='relu'))\n",
    "model1.add(Dense(256, activation='relu'))\n",
    "model1.add(Dropout(0.2))\n",
    "model1.add(Dense(num_classes, activation='softmax'))"
   ]
  },
  {
   "cell_type": "code",
   "execution_count": 32,
   "metadata": {},
   "outputs": [],
   "source": [
    "model2 = Sequential()\n",
    "model2.add(Conv2D(32, kernel_size=(3,3), activation = 'relu', input_shape = (28,28,1)))\n",
    "model2.add(MaxPooling2D(pool_size = (2,2)))\n",
    "model2.add(Conv2D(64,(3,3),activation='relu'))\n",
    "model2.add(MaxPooling2D(pool_size = (2,2)))\n",
    "model2.add(Dropout(0.2))\n",
    "model2.add(Flatten())\n",
    "model2.add(Dense(128, activation='relu'))\n",
    "model2.add(Dense(128, activation='relu'))\n",
    "model2.add(Dropout(0.2))\n",
    "model2.add(Dense(num_classes, activation='softmax'))"
   ]
  },
  {
   "cell_type": "code",
   "execution_count": 33,
   "metadata": {},
   "outputs": [],
   "source": [
    "model3 = Sequential()\n",
    "model3.add(Conv2D(32, kernel_size=(3,3), activation = 'relu', input_shape = (28,28,1)))\n",
    "model3.add(MaxPooling2D(pool_size = (2,2)))\n",
    "model3.add(Conv2D(64,(3,3),activation='relu'))\n",
    "model3.add(MaxPooling2D(pool_size = (2,2)))\n",
    "model3.add(Dropout(0.2))\n",
    "model3.add(Flatten())\n",
    "model3.add(Dense(128, activation='relu'))\n",
    "model3.add(Dense(128, activation='relu'))\n",
    "model3.add(Dropout(0.2))\n",
    "model3.add(Dense(num_classes, activation='softmax'))"
   ]
  },
  {
   "cell_type": "code",
   "execution_count": 24,
   "metadata": {},
   "outputs": [
    {
     "name": "stdout",
     "output_type": "stream",
     "text": [
      "Epoch 1/5\n",
      "469/469 [==============================] - 94s 196ms/step - loss: 0.2219 - accuracy: 0.9327 - val_loss: 0.0542 - val_accuracy: 0.9828\n",
      "Epoch 2/5\n",
      "469/469 [==============================] - 93s 198ms/step - loss: 0.0641 - accuracy: 0.9798 - val_loss: 0.0449 - val_accuracy: 0.9857\n",
      "Epoch 3/5\n",
      "469/469 [==============================] - 104s 222ms/step - loss: 0.0442 - accuracy: 0.9860 - val_loss: 0.0358 - val_accuracy: 0.9881\n",
      "Epoch 4/5\n",
      "469/469 [==============================] - 103s 219ms/step - loss: 0.0366 - accuracy: 0.9881 - val_loss: 0.0397 - val_accuracy: 0.9878\n",
      "Epoch 5/5\n",
      "469/469 [==============================] - 101s 216ms/step - loss: 0.0314 - accuracy: 0.9901 - val_loss: 0.0385 - val_accuracy: 0.9880\n",
      "test loss:  0.038457877933979034\n",
      "test Accuracy:  0.9879999756813049\n"
     ]
    }
   ],
   "source": [
    "model.compile(loss = keras.losses.categorical_crossentropy, optimizer = keras.optimizers.Adam(), metrics = ['accuracy'])\n",
    "\n",
    "model.fit(x_train, y_train, batch_size = batch_size, epochs = epochs, verbose = 1, validation_data = (x_test, y_test))\n",
    "\n",
    "score = model.evaluate(x_test, y_test, verbose = 0)\n",
    "print(\"test loss: \", score[0])\n",
    "print('test Accuracy: ', score[1])"
   ]
  },
  {
   "cell_type": "code",
   "execution_count": 5,
   "metadata": {},
   "outputs": [
    {
     "name": "stdout",
     "output_type": "stream",
     "text": [
      "Epoch 1/5\n",
      "469/469 [==============================] - 82s 172ms/step - loss: 0.4833 - accuracy: 0.9240 - val_loss: 0.0680 - val_accuracy: 0.9797\n",
      "Epoch 2/5\n",
      "469/469 [==============================] - 80s 171ms/step - loss: 0.0721 - accuracy: 0.9780 - val_loss: 0.0524 - val_accuracy: 0.9834\n",
      "Epoch 3/5\n",
      "469/469 [==============================] - 85s 180ms/step - loss: 0.0520 - accuracy: 0.9838 - val_loss: 0.0478 - val_accuracy: 0.9850\n",
      "Epoch 4/5\n",
      "469/469 [==============================] - 86s 184ms/step - loss: 0.0408 - accuracy: 0.9876 - val_loss: 0.0377 - val_accuracy: 0.9886\n",
      "Epoch 5/5\n",
      "469/469 [==============================] - 88s 187ms/step - loss: 0.0334 - accuracy: 0.9892 - val_loss: 0.0532 - val_accuracy: 0.9860\n",
      "test loss:  0.05316469073295593\n",
      "test Accuracy:  0.9860000014305115\n"
     ]
    }
   ],
   "source": [
    "model1.compile(loss = keras.losses.categorical_crossentropy, optimizer = keras.optimizers.Adam(), metrics = ['accuracy'])\n",
    "\n",
    "model1.fit(x_train, y_train, batch_size = batch_size, epochs = epochs, verbose = 1, validation_data = (x_test, y_test))\n",
    "\n",
    "score = model1.evaluate(x_test, y_test, verbose = 0)\n",
    "print(\"test loss: \", score[0])\n",
    "print('test Accuracy: ', score[1])"
   ]
  },
  {
   "cell_type": "code",
   "execution_count": 35,
   "metadata": {},
   "outputs": [
    {
     "name": "stdout",
     "output_type": "stream",
     "text": [
      "Epoch 1/5\n",
      "469/469 [==============================] - 70s 147ms/step - loss: 0.4979 - accuracy: 0.9034 - val_loss: 0.0709 - val_accuracy: 0.9787\n",
      "Epoch 2/5\n",
      "469/469 [==============================] - 55s 118ms/step - loss: 0.0908 - accuracy: 0.9732 - val_loss: 0.0535 - val_accuracy: 0.9835\n",
      "Epoch 3/5\n",
      "469/469 [==============================] - 67s 142ms/step - loss: 0.0631 - accuracy: 0.9808 - val_loss: 0.0448 - val_accuracy: 0.9862\n",
      "Epoch 4/5\n",
      "469/469 [==============================] - 79s 169ms/step - loss: 0.0508 - accuracy: 0.9847 - val_loss: 0.0334 - val_accuracy: 0.9896\n",
      "Epoch 5/5\n",
      "469/469 [==============================] - 37s 78ms/step - loss: 0.0423 - accuracy: 0.9870 - val_loss: 0.0419 - val_accuracy: 0.9871\n",
      "test loss:  0.04186840355396271\n",
      "test Accuracy:  0.9871000051498413\n"
     ]
    }
   ],
   "source": [
    "model2.compile(loss = keras.losses.categorical_crossentropy, optimizer = keras.optimizers.Adam(), metrics = ['accuracy'])\n",
    "\n",
    "model2.fit(x_train, y_train, batch_size = batch_size, epochs = epochs, verbose = 1, validation_data = (x_test, y_test))\n",
    "\n",
    "score = model2.evaluate(x_test, y_test, verbose = 0)\n",
    "print(\"test loss: \", score[0])\n",
    "print('test Accuracy: ', score[1])"
   ]
  },
  {
   "cell_type": "code",
   "execution_count": 36,
   "metadata": {},
   "outputs": [
    {
     "name": "stdout",
     "output_type": "stream",
     "text": [
      "Epoch 1/5\n",
      "469/469 [==============================] - 36s 76ms/step - loss: 0.4374 - accuracy: 0.9058 - val_loss: 0.0637 - val_accuracy: 0.9815\n",
      "Epoch 2/5\n",
      "469/469 [==============================] - 36s 76ms/step - loss: 0.0848 - accuracy: 0.9751 - val_loss: 0.0516 - val_accuracy: 0.9841\n",
      "Epoch 3/5\n",
      "469/469 [==============================] - 35s 74ms/step - loss: 0.0609 - accuracy: 0.9819 - val_loss: 0.0400 - val_accuracy: 0.9874\n",
      "Epoch 4/5\n",
      "469/469 [==============================] - 39s 84ms/step - loss: 0.0481 - accuracy: 0.9852 - val_loss: 0.0381 - val_accuracy: 0.9879\n",
      "Epoch 5/5\n",
      "469/469 [==============================] - 39s 83ms/step - loss: 0.0394 - accuracy: 0.9879 - val_loss: 0.0402 - val_accuracy: 0.9884\n",
      "test loss:  0.04022940248250961\n",
      "test Accuracy:  0.9883999824523926\n"
     ]
    }
   ],
   "source": [
    "model3.compile(loss = keras.losses.categorical_crossentropy, optimizer = keras.optimizers.Adam(), metrics = ['accuracy'])\n",
    "\n",
    "model3.fit(x_train, y_train, batch_size = batch_size, epochs = epochs, verbose = 1, validation_data = (x_test, y_test))\n",
    "\n",
    "score = model3.evaluate(x_test, y_test, verbose = 0)\n",
    "print(\"test loss: \", score[0])\n",
    "print('test Accuracy: ', score[1])"
   ]
  },
  {
   "cell_type": "code",
   "execution_count": 6,
   "metadata": {},
   "outputs": [
    {
     "name": "stderr",
     "output_type": "stream",
     "text": [
      "WARNING:absl:Found untraced functions such as _jit_compiled_convolution_op, _jit_compiled_convolution_op while saving (showing 2 of 2). These functions will not be directly callable after loading.\n"
     ]
    },
    {
     "name": "stdout",
     "output_type": "stream",
     "text": [
      "INFO:tensorflow:Assets written to: digit_recog2.model\\assets\n"
     ]
    },
    {
     "name": "stderr",
     "output_type": "stream",
     "text": [
      "INFO:tensorflow:Assets written to: digit_recog2.model\\assets\n"
     ]
    }
   ],
   "source": [
    "# model.save('digit_recog1.model')\n",
    "model1.save('digit_recog2.model')\n",
    "# model2.save('digit_recog3.model')\n",
    "# model3.save('digit_recog4.model')"
   ]
  },
  {
   "cell_type": "code",
   "execution_count": 7,
   "metadata": {},
   "outputs": [],
   "source": [
    "# model = keras.models.load_model('digit_recog1.model')\n",
    "model1 = keras.models.load_model('digit_recog2.model')\n",
    "# model2 = keras.models.load_model('digit_recog3.model')\n",
    "# model3 = keras.models.load_model('digit_recog4.model')"
   ]
  },
  {
   "cell_type": "code",
   "execution_count": 8,
   "metadata": {},
   "outputs": [],
   "source": [
    "import os\n",
    "import cv2 as cv\n",
    "import matplotlib.pyplot as pt"
   ]
  },
  {
   "cell_type": "code",
   "execution_count": 9,
   "metadata": {},
   "outputs": [
    {
     "name": "stdout",
     "output_type": "stream",
     "text": [
      "1/1 [==============================] - 0s 356ms/step\n"
     ]
    },
    {
     "data": {
      "image/png": "[encoded data removed]",
      "text/plain": [
       "<Figure size 432x288 with 1 Axes>"
      ]
     },
     "metadata": {
      "needs_background": "light"
     },
     "output_type": "display_data"
    },
    {
     "name": "stdout",
     "output_type": "stream",
     "text": [
      "the number is prob a 9\n",
      "1/1 [==============================] - 0s 46ms/step\n"
     ]
    },
    {
     "data": {
      "image/png": "[encoded data removed]",
      "text/plain": [
       "<Figure size 432x288 with 1 Axes>"
      ]
     },
     "metadata": {
      "needs_background": "light"
     },
     "output_type": "display_data"
    },
    {
     "name": "stdout",
     "output_type": "stream",
     "text": [
      "the number is prob a 2\n",
      "1/1 [==============================] - 0s 32ms/step\n"
     ]
    },
    {
     "data": {
      "image/png": "[encoded data removed]",
      "text/plain": [
       "<Figure size 432x288 with 1 Axes>"
      ]
     },
     "metadata": {
      "needs_background": "light"
     },
     "output_type": "display_data"
    },
    {
     "name": "stdout",
     "output_type": "stream",
     "text": [
      "the number is prob a 2\n",
      "1/1 [==============================] - 0s 41ms/step\n"
     ]
    },
    {
     "data": {
      "image/png": "[encoded data removed]",
      "text/plain": [
       "<Figure size 432x288 with 1 Axes>"
      ]
     },
     "metadata": {
      "needs_background": "light"
     },
     "output_type": "display_data"
    },
    {
     "name": "stdout",
     "output_type": "stream",
     "text": [
      "the number is prob a 2\n",
      "1/1 [==============================] - 0s 41ms/step\n"
     ]
    },
    {
     "data": {
      "image/png": "[encoded data removed]",
      "text/plain": [
       "<Figure size 432x288 with 1 Axes>"
      ]
     },
     "metadata": {
      "needs_background": "light"
     },
     "output_type": "display_data"
    },
    {
     "name": "stdout",
     "output_type": "stream",
     "text": [
      "the number is prob a 2\n",
      "1/1 [==============================] - 0s 44ms/step\n"
     ]
    },
    {
     "data": {
      "image/png": "[encoded data removed]",
      "text/plain": [
       "<Figure size 432x288 with 1 Axes>"
      ]
     },
     "metadata": {
      "needs_background": "light"
     },
     "output_type": "display_data"
    },
    {
     "name": "stdout",
     "output_type": "stream",
     "text": [
      "the number is prob a 5\n",
      "1/1 [==============================] - 0s 67ms/step\n"
     ]
    },
    {
     "data": {
      "image/png": "[encoded data removed]",
      "text/plain": [
       "<Figure size 432x288 with 1 Axes>"
      ]
     },
     "metadata": {
      "needs_background": "light"
     },
     "output_type": "display_data"
    },
    {
     "name": "stdout",
     "output_type": "stream",
     "text": [
      "the number is prob a 5\n",
      "1/1 [==============================] - 0s 45ms/step\n"
     ]
    },
    {
     "data": {
      "image/png": "[encoded data removed]",
      "text/plain": [
       "<Figure size 432x288 with 1 Axes>"
      ]
     },
     "metadata": {
      "needs_background": "light"
     },
     "output_type": "display_data"
    },
    {
     "name": "stdout",
     "output_type": "stream",
     "text": [
      "the number is prob a 7\n",
      "1/1 [==============================] - 0s 76ms/step\n"
     ]
    },
    {
     "data": {
      "image/png": "[encoded data removed]",
      "text/plain": [
       "<Figure size 432x288 with 1 Axes>"
      ]
     },
     "metadata": {
      "needs_background": "light"
     },
     "output_type": "display_data"
    },
    {
     "name": "stdout",
     "output_type": "stream",
     "text": [
      "the number is prob a 8\n",
      "1/1 [==============================] - 0s 37ms/step\n"
     ]
    },
    {
     "data": {
      "image/png": "[encoded data removed]",
      "text/plain": [
       "<Figure size 432x288 with 1 Axes>"
      ]
     },
     "metadata": {
      "needs_background": "light"
     },
     "output_type": "display_data"
    },
    {
     "name": "stdout",
     "output_type": "stream",
     "text": [
      "the number is prob a 1\n"
     ]
    }
   ],
   "source": [
    "image_num = 0\n",
    "while os.path.isfile(f\"digits/digit{image_num}.png\"):\n",
    "    try:\n",
    "        img = cv.imread(f\"digits/digit{image_num}.png\")[:,:,0]\n",
    "        img = np.invert(np.array([img]))\n",
    "        # pred = model.predict(img)\n",
    "        pred1 = model1.predict(img)\n",
    "        # pred2 = model2.predict(img)\n",
    "        # pred3 = model3.predict(img)\n",
    "        pt.imshow(img[0], cmap = pt.cm.binary)\n",
    "        pt.show()\n",
    "        print(f\"the number is prob a {np.argmax(pred1)}\")\n",
    "    except:\n",
    "        print(\"error while opening file!\")\n",
    "    finally:\n",
    "        image_num+=1\n",
    "# img = cv.imread(f\"digits/digit_9.png\")[:,:,0]\n",
    "# img = np.invert(np.array([img]))\n",
    "# pred = model.predict(img)\n",
    "# pt.imshow(img[0], cmap = pt.cm.binary)\n",
    "# pt.show()\n",
    "# print(pred)\n"
   ]
  },
  {
   "cell_type": "code",
   "execution_count": null,
   "metadata": {},
   "outputs": [],
   "source": []
  }
 ],
 "metadata": {
  "kernelspec": {
   "display_name": "Python 3",
   "language": "python",
   "name": "python3"
  },
  "language_info": {
   "codemirror_mode": {
    "name": "ipython",
    "version": 3
   },
   "file_extension": ".py",
   "mimetype": "text/x-python",
   "name": "python",
   "nbconvert_exporter": "python",
   "pygments_lexer": "ipython3",
   "version": "3.10.4"
  },
  "orig_nbformat": 4,
  "vscode": {
   "interpreter": {
    "hash": "f2ccb58c476f33ba3e3aee7ac07234ef6b8217ef24ad64d2a7d4fed1a57c1cd2"
   }
  }
 },
 "nbformat": 4,
 "nbformat_minor": 2
}
