{
 "cells": [
  {
   "cell_type": "code",
   "execution_count": 1,
   "metadata": {},
   "outputs": [],
   "source": [
    "import numpy as np\n",
    "import keras\n",
    "from keras.datasets import mnist\n",
    "from keras.models import Sequential\n",
    "from keras.layers import Dense, Dropout, Flatten\n",
    "from keras.layers import Conv2D, MaxPooling2D"
   ]
  },
  {
   "cell_type": "code",
   "execution_count": 2,
   "metadata": {},
   "outputs": [],
   "source": [
    "batch_size = 128\n",
    "num_classes = 10\n",
    "epochs = 12\n",
    "\n",
    "img_rows, img_cols = 28, 28\n",
    "\n",
    "(x_train, y_train), (x_test, y_test) = mnist.load_data()\n",
    "\n",
    "x_train = x_train.reshape(60000, 28, 28, 1)\n",
    "x_test = x_test.reshape(10000, 28, 28, 1)\n",
    "\n",
    "y_train = keras.utils.to_categorical(y_train, num_classes)\n",
    "y_test = keras.utils.to_categorical(y_test, num_classes)"
   ]
  },
  {
   "cell_type": "code",
   "execution_count": 27,
   "metadata": {},
   "outputs": [],
   "source": [
    "model = Sequential()\n",
    "model.add(Conv2D(32, kernel_size=(3,3), activation = 'sigmoid', input_shape = (28,28,1)))\n",
    "model.add(MaxPooling2D(pool_size = (2,2)))\n",
    "model.add(Conv2D(64,(3,3),activation='relu'))\n",
    "model.add(MaxPooling2D(pool_size = (2,2)))\n",
    "model.add(Dropout(0.2))\n",
    "model.add(Flatten())\n",
    "model.add(Dense(128, activation='relu'))\n",
    "model.add(Dense(128, activation='tanh'))\n",
    "model.add(Dropout(0.2))\n",
    "model.add(Dense(num_classes, activation='softmax'))"
   ]
  },
  {
   "cell_type": "code",
   "execution_count": 28,
   "metadata": {},
   "outputs": [
    {
     "name": "stdout",
     "output_type": "stream",
     "text": [
      "Epoch 1/12\n",
      "469/469 [==============================] - 37s 77ms/step - loss: 0.2350 - accuracy: 0.9293 - val_loss: 0.0633 - val_accuracy: 0.9805\n",
      "Epoch 2/12\n",
      "469/469 [==============================] - 38s 80ms/step - loss: 0.0695 - accuracy: 0.9784 - val_loss: 0.0390 - val_accuracy: 0.9868\n",
      "Epoch 3/12\n",
      "469/469 [==============================] - 37s 79ms/step - loss: 0.0520 - accuracy: 0.9842 - val_loss: 0.0383 - val_accuracy: 0.9872\n",
      "Epoch 4/12\n",
      "469/469 [==============================] - 36s 76ms/step - loss: 0.0413 - accuracy: 0.9869 - val_loss: 0.0338 - val_accuracy: 0.9885\n",
      "Epoch 5/12\n",
      "469/469 [==============================] - 35s 75ms/step - loss: 0.0356 - accuracy: 0.9890 - val_loss: 0.0340 - val_accuracy: 0.9889\n",
      "Epoch 6/12\n",
      "469/469 [==============================] - 34s 73ms/step - loss: 0.0322 - accuracy: 0.9898 - val_loss: 0.0346 - val_accuracy: 0.9885\n",
      "Epoch 7/12\n",
      "469/469 [==============================] - 35s 74ms/step - loss: 0.0276 - accuracy: 0.9912 - val_loss: 0.0387 - val_accuracy: 0.9883\n",
      "Epoch 8/12\n",
      "469/469 [==============================] - 34s 72ms/step - loss: 0.0239 - accuracy: 0.9919 - val_loss: 0.0351 - val_accuracy: 0.9890\n",
      "Epoch 9/12\n",
      "469/469 [==============================] - 34s 74ms/step - loss: 0.0234 - accuracy: 0.9921 - val_loss: 0.0359 - val_accuracy: 0.9887\n",
      "Epoch 10/12\n",
      "469/469 [==============================] - 34s 73ms/step - loss: 0.0216 - accuracy: 0.9928 - val_loss: 0.0269 - val_accuracy: 0.9917\n",
      "Epoch 11/12\n",
      "469/469 [==============================] - 35s 75ms/step - loss: 0.0181 - accuracy: 0.9941 - val_loss: 0.0310 - val_accuracy: 0.9912\n",
      "Epoch 12/12\n",
      "469/469 [==============================] - 34s 73ms/step - loss: 0.0162 - accuracy: 0.9948 - val_loss: 0.0317 - val_accuracy: 0.9902\n",
      "test loss:  0.03171151876449585\n",
      "test Accuracy:  0.9901999831199646\n"
     ]
    }
   ],
   "source": [
    "model.compile(loss = keras.losses.categorical_crossentropy, optimizer = keras.optimizers.Adam(), metrics = ['accuracy'])\n",
    "\n",
    "model.fit(x_train, y_train, batch_size = batch_size, epochs = epochs, verbose = 1, validation_data = (x_test, y_test))\n",
    "\n",
    "score = model.evaluate(x_test, y_test, verbose = 0)\n",
    "print(\"test loss: \", score[0])\n",
    "print('test Accuracy: ', score[1])"
   ]
  },
  {
   "cell_type": "code",
   "execution_count": 29,
   "metadata": {},
   "outputs": [
    {
     "name": "stderr",
     "output_type": "stream",
     "text": [
      "WARNING:absl:Found untraced functions such as _jit_compiled_convolution_op, _jit_compiled_convolution_op while saving (showing 2 of 2). These functions will not be directly callable after loading.\n"
     ]
    },
    {
     "name": "stdout",
     "output_type": "stream",
     "text": [
      "INFO:tensorflow:Assets written to: digit_recog.model\\assets\n"
     ]
    },
    {
     "name": "stderr",
     "output_type": "stream",
     "text": [
      "INFO:tensorflow:Assets written to: digit_recog.model\\assets\n"
     ]
    }
   ],
   "source": [
    "model.save('digit_recog.model')"
   ]
  },
  {
   "cell_type": "code",
   "execution_count": 30,
   "metadata": {},
   "outputs": [],
   "source": [
    "model = keras.models.load_model('digit_recog.model')"
   ]
  },
  {
   "cell_type": "code",
   "execution_count": 31,
   "metadata": {},
   "outputs": [],
   "source": [
    "import os\n",
    "import cv2 as cv\n",
    "import matplotlib.pyplot as pt"
   ]
  },
  {
   "cell_type": "code",
   "execution_count": 33,
   "metadata": {},
   "outputs": [
    {
     "name": "stdout",
     "output_type": "stream",
     "text": [
      "1/1 [==============================] - 0s 30ms/step\n"
     ]
    },
    {
     "data": {
      "image/png": "[encoded data removed]",
      "text/plain": [
       "<Figure size 432x288 with 1 Axes>"
      ]
     },
     "metadata": {
      "needs_background": "light"
     },
     "output_type": "display_data"
    },
    {
     "name": "stdout",
     "output_type": "stream",
     "text": [
      "the number is prob a 9\n",
      "1/1 [==============================] - 0s 26ms/step\n"
     ]
    },
    {
     "data": {
      "image/png": "[encoded data removed]",
      "text/plain": [
       "<Figure size 432x288 with 1 Axes>"
      ]
     },
     "metadata": {
      "needs_background": "light"
     },
     "output_type": "display_data"
    },
    {
     "name": "stdout",
     "output_type": "stream",
     "text": [
      "the number is prob a 4\n",
      "1/1 [==============================] - 0s 24ms/step\n"
     ]
    },
    {
     "data": {
      "image/png": "[encoded data removed]",
      "text/plain": [
       "<Figure size 432x288 with 1 Axes>"
      ]
     },
     "metadata": {
      "needs_background": "light"
     },
     "output_type": "display_data"
    },
    {
     "name": "stdout",
     "output_type": "stream",
     "text": [
      "the number is prob a 2\n",
      "1/1 [==============================] - 0s 22ms/step\n"
     ]
    },
    {
     "data": {
      "image/png": "[encoded data removed]",
      "text/plain": [
       "<Figure size 432x288 with 1 Axes>"
      ]
     },
     "metadata": {
      "needs_background": "light"
     },
     "output_type": "display_data"
    },
    {
     "name": "stdout",
     "output_type": "stream",
     "text": [
      "the number is prob a 2\n",
      "1/1 [==============================] - 0s 23ms/step\n"
     ]
    },
    {
     "data": {
      "image/png": "[encoded data removed]",
      "text/plain": [
       "<Figure size 432x288 with 1 Axes>"
      ]
     },
     "metadata": {
      "needs_background": "light"
     },
     "output_type": "display_data"
    },
    {
     "name": "stdout",
     "output_type": "stream",
     "text": [
      "the number is prob a 6\n",
      "1/1 [==============================] - 0s 25ms/step\n"
     ]
    },
    {
     "data": {
      "image/png": "[encoded data removed]",
      "text/plain": [
       "<Figure size 432x288 with 1 Axes>"
      ]
     },
     "metadata": {
      "needs_background": "light"
     },
     "output_type": "display_data"
    },
    {
     "name": "stdout",
     "output_type": "stream",
     "text": [
      "the number is prob a 0\n",
      "1/1 [==============================] - 0s 59ms/step\n"
     ]
    },
    {
     "data": {
      "image/png": "[encoded data removed]",
      "text/plain": [
       "<Figure size 432x288 with 1 Axes>"
      ]
     },
     "metadata": {
      "needs_background": "light"
     },
     "output_type": "display_data"
    },
    {
     "name": "stdout",
     "output_type": "stream",
     "text": [
      "the number is prob a 6\n",
      "1/1 [==============================] - 0s 28ms/step\n"
     ]
    },
    {
     "data": {
      "image/png": "[encoded data removed]",
      "text/plain": [
       "<Figure size 432x288 with 1 Axes>"
      ]
     },
     "metadata": {
      "needs_background": "light"
     },
     "output_type": "display_data"
    },
    {
     "name": "stdout",
     "output_type": "stream",
     "text": [
      "the number is prob a 8\n",
      "1/1 [==============================] - 0s 25ms/step\n"
     ]
    },
    {
     "data": {
      "image/png": "[encoded data removed]",
      "text/plain": [
       "<Figure size 432x288 with 1 Axes>"
      ]
     },
     "metadata": {
      "needs_background": "light"
     },
     "output_type": "display_data"
    },
    {
     "name": "stdout",
     "output_type": "stream",
     "text": [
      "the number is prob a 2\n",
      "1/1 [==============================] - 0s 29ms/step\n"
     ]
    },
    {
     "data": {
      "image/png": "[encoded data removed]",
      "text/plain": [
       "<Figure size 432x288 with 1 Axes>"
      ]
     },
     "metadata": {
      "needs_background": "light"
     },
     "output_type": "display_data"
    },
    {
     "name": "stdout",
     "output_type": "stream",
     "text": [
      "the number is prob a 2\n"
     ]
    }
   ],
   "source": [
    "image_num = 0\n",
    "while os.path.isfile(f\"digits/digit{image_num}.png\"):\n",
    "    try:\n",
    "        img = cv.imread(f\"digits/digit_{image_num}.png\")[:,:,0]\n",
    "        img = np.invert(np.array([img]))\n",
    "        pred = model.predict(img)\n",
    "        pt.imshow(img[0], cmap = pt.cm.binary)\n",
    "        pt.show()\n",
    "        print(f\"the number is prob a {np.argmax(pred)}\")\n",
    "    except:\n",
    "        print(\"error while opening file!\")\n",
    "    finally:\n",
    "        image_num+=1\n",
    "# img = cv.imread(f\"digits/digit_9.png\")[:,:,0]\n",
    "# img = np.invert(np.array([img]))\n",
    "# pred = model.predict(img)\n",
    "# pt.imshow(img[0], cmap = pt.cm.binary)\n",
    "# pt.show()\n",
    "# print(pred)\n"
   ]
  },
  {
   "cell_type": "code",
   "execution_count": null,
   "metadata": {},
   "outputs": [],
   "source": []
  }
 ],
 "metadata": {
  "kernelspec": {
   "display_name": "Python 3",
   "language": "python",
   "name": "python3"
  },
  "language_info": {
   "codemirror_mode": {
    "name": "ipython",
    "version": 3
   },
   "file_extension": ".py",
   "mimetype": "text/x-python",
   "name": "python",
   "nbconvert_exporter": "python",
   "pygments_lexer": "ipython3",
   "version": "3.10.4"
  },
  "orig_nbformat": 4,
  "vscode": {
   "interpreter": {
    "hash": "f2ccb58c476f33ba3e3aee7ac07234ef6b8217ef24ad64d2a7d4fed1a57c1cd2"
   }
  }
 },
 "nbformat": 4,
 "nbformat_minor": 2
}
